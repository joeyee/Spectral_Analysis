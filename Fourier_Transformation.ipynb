{
  "nbformat": 4,
  "nbformat_minor": 0,
  "metadata": {
    "colab": {
      "name": "Fourier_Transformation.ipynb",
      "provenance": [],
      "collapsed_sections": [],
      "authorship_tag": "ABX9TyPevFyeI0CEx3Cj4ppPA1hx",
      "include_colab_link": true
    },
    "kernelspec": {
      "name": "python3",
      "display_name": "Python 3"
    },
    "language_info": {
      "name": "python"
    }
  },
  "cells": [
    {
      "cell_type": "markdown",
      "metadata": {
        "id": "view-in-github",
        "colab_type": "text"
      },
      "source": [
        "<a href=\"https://colab.research.google.com/github/joeyee/Spectral_Analysis/blob/main/Fourier_Transformation.ipynb\" target=\"_parent\"><img src=\"https://colab.research.google.com/assets/colab-badge.svg\" alt=\"Open In Colab\"/></a>"
      ]
    },
    {
      "cell_type": "markdown",
      "source": [
        "#I. Prove Discrete Fourier transformation and its inverse\n",
        "$$\n",
        "X[k]=\\sum_{n=0}^{N-1}x[n]e^{-j2\\pi nk/N}   \\quad\\quad (1)\n",
        "$$\n",
        "证傅里叶逆变换\n",
        "$$\n",
        "\\begin{split}\n",
        "\\sum_{k=0}^{N-1}X[k]e^{j2\\pi nk/N} &= \\sum_{k=0}^{N-1}\\left(\\sum_{m=0}^{N-1}x[m]e^{-j2\\pi mk/N}\\right)e^{j2\\pi nk/N} \\\\\n",
        "&=\\sum_{m=0}^{N-1}x[m]\\sum_{k=0}^{N-1}e^{-j2\\pi(m-n)k/N} \\quad\\quad(2)\\\\\n",
        "&= \\sum_{m=0}^{N-1}x[m] \\sum_{k=0}^{N-1} \\delta(m-n) \\\\\n",
        "&= N x[n]\n",
        "\\end{split} \n",
        "$$\n",
        "由于\n",
        "$$\n",
        "\\sum_{n=0}^{N-1}=e^{-j2\\pi n/N} = 0 \\quad\\quad(3) \n",
        "$$\n",
        "故仅当 $m=n$ 时（2）式的右半部分才有值。所以有：\n",
        "$$\n",
        "x[n] = \\frac{1}{N}\\sum_{k=0}^{N-1}X[k]e^{j2\\pi nk/N}  \\quad\\quad(4)\n",
        "$$\n",
        "\n",
        "# II. Prove Parseval's theorem 能量守恒\n",
        "$$\n",
        "{\\displaystyle {\\frac {1}{N}}\\sum _{k=0}^{N-1}|X[k]|^{2}={\\frac {1}{N}}\\sum _{k=0}^{N-1}X[k]\\cdot X^{*}[k]={\\frac {1}{N}}\\sum _{k=0}^{N-1}\\left[\\sum _{n=0}^{N-1}x[n]\\,\\exp \\left(-j{\\frac {2\\pi }{N}}k\\,n\\right)\\right]\\,X^{*}[k]={\\frac {1}{N}}\\sum _{n=0}^{N-1}x[n]\\left[\\sum _{k=0}^{N-1}X^{*}[k]\\,\\exp \\left(-j{\\frac {2\\pi }{N}}k\\,n\\right)\\right]={\\frac {1}{N}}\\sum _{n=0}^{N-1}x[n](N\\cdot x^{*}[n])=\\sum _{n=0}^{N-1}|x[n]|^{2}}\n",
        "$$\n",
        "因此在频域规范$X[k]$， 使$\\hat{X}[k]=X[k]/\\sqrt{N}$, 那么 \n",
        "$$\n",
        "\\sum _{k=0}^{N-1}|\\hat{X}[k]|^{2}=\\sum _{n=0}^{N-1}|x[n]|^{2}\n",
        "$$\n",
        "\n",
        "# III. How to understand the negative frequency in the DFT.\n",
        "1. 由于$x[n]$是实数序列: 负向频率跟正向频率共轭对称\n",
        "$$ X[-k] = \\sum_{n=0}^{N-1}x[n]e^{j2\\pi nk/N} = \\left(\\sum_{n=0}^{N-1}x[n]e^{-j2\\pi nk/N}\\right)^*=X^*[k]$$\n",
        "2. 由于$X[k]$是周期序列 $X[N-k]=X[-k]$,所以序列$X[k]$关于$N/2$共轭对称，$N/2, ..., N-1$对应的为负向频率。\n",
        "$$\n",
        "\\begin{split}\n",
        "&X[0, 1, 2, ...N/2-1, N/2, N/2+1,   ..., N-1] =\\\\\n",
        "&X[0, 1, 2, ...N/2-1, N/2, -(N/2-1),..., -1 ]\n",
        "\\end{split}\n",
        "$$\n",
        "4.$X[0]/N = \\frac{1}{N}\\sum_{n=0}^{N-1}x[n]$, 零频率对应平均值（直流分量）。\n",
        "前半部分$X[1,...,N/2-1]$与后半部分$X[N/2+1, ..., N-1]$**共轭对称，幅值相同，相位反相。他们分别对应频率点上的一半能量**。注意 $X[1]$与$X[N-1]$(也就是$X[-1]$)共同对应基频为1的波的能量，假如基波中的时域表示为 $a_1 sin(2\\pi f_1t) + b_1 cos(2\\pi f_1t)$,则$X[1] = a_1/2 - jb_1/2$, $X[N-1] = a_1/2 + jb_1/2$。\n",
        "\n",
        "$$Amplitude |X[1]| = \\sqrt{a^2+b^2}/2, \\\\Phase(X[1]) = atan2\\left(Im(X[1]), Re(X[1])\\right) =atan2(-b_1, a_1)$$\n",
        "\n",
        "#IV. Example\n",
        "比如频点1上的能量分布在$k=1$和$k=N-1$上面。\n",
        "若间隔为$\\Delta t$, 则采样频率为$f_s = 1/\\Delta t$ 一个周期的采样点数为$N$, 那么时域周期为$T=N\\Delta t$.频率间隔为$\\Delta f =  1/T = \\frac{1}{N\\Delta t} = f_s/N$. DFT的基频为$f_1 = \\Delta f$\n",
        "假设信号由仅有基频正余弦构成：\n",
        "$$\n",
        "\\begin{split}\n",
        "x[n] &= x[n\\Delta t] \\\\ \n",
        "&= a\\cos\\left(2\\pi f_1 n \\Delta t \\right) + b\\sin\\left(2\\pi f_1 n\\Delta t\\right) \\\\\n",
        "&= a\\cos\\left(2\\pi  n \\Delta t/(N\\Delta t) \\right) + b\\sin\\left(2\\pi  n\\Delta t/(N\\Delta t)\\right)\\\\\n",
        "&= a\\cos\\left(2\\pi n/N \\right) + b\\sin\\left(2\\pi n/N\\right)\n",
        "\\end{split}\n",
        "$$\n",
        "\n",
        "$$\n",
        "\\begin{split}\n",
        "X[1]   &= \\sum_{n=0}^{N-1}x[n]e^{-j2\\pi nk/N} \\\\\n",
        "       &= \\sum_{n=0}^{N-1}\\left(a\\cos\\left(2\\pi n/N \\right) + b\\sin\\left(2\\pi n/N\\right)\\right)e^{-j2\\pi nk/N}\\\\\n",
        "       &= \\sum_{n=0}^{N-1} \\left(a/2\\left(e^{j2\\pi nk/N}+e^{-j2\\pi nk/N}\\right)+b/(2j)\\left(e^{j2\\pi nk/N}-e^{-j2\\pi nk/N}\\right)\\right)e^{-j2\\pi nk/N} \\\\\n",
        "       &= a\\frac{N}{2} - jb\\frac{N}{2}\n",
        "\\end{split}\n",
        "$$\n",
        "\n",
        "这里使用了 $\\sum_{n=0}^{N-1}e^{-j4\\pi nk/N} = 0$的性质。\n",
        "\n",
        "同理\n",
        "$$\n",
        "\\begin{split}\n",
        "X[N-1] &= \\sum_{n=0}^{N-1}x[n]e^{-j2\\pi nk/N} \\\\\n",
        "       &= \\sum_{n=0}^{N-1}\\left(a\\cos\\left(2\\pi n/N \\right) + b\\sin\\left(2\\pi n/N\\right)\\right)e^{j2\\pi nk/N} \\\\\n",
        "       &= \\sum_{n=0}^{N-1} \\left(a/2\\left(e^{j2\\pi nk/N}+e^{-j2\\pi nk/N}\\right)+b/(2j)\\left(e^{j2\\pi nk/N}-e^{-j2\\pi nk/N}\\right)\\right)e^{j2\\pi nk/N} \\\\\n",
        "       &= a\\frac{N}{2} + jb\\frac{N}{2}\n",
        "\\end{split}\n",
        "$$\n",
        "\n",
        "因此：\n",
        "时域的基频的正弦分量的振幅为：$a = X[1]*2/N$, 余弦分量的振幅为 $b=X[1]*2/N$.\n",
        "其实也可以看出N点DFT变化的有效成分集中在$[0,1,...,N/2]$之上。关注着前半部分的频率分量即可$（0,f_s/2）$.\n",
        "\n",
        "注意：\n",
        "SciPyFFT的执行速度最快！\n",
        "Note that the built-in FFT functions are much faster and easier to use, especially when using the SciPy version. Here are the results for comparison:\n",
        "• Implemented DFT: 120 ms\n",
        "• Implemented FFT: 16.9 ms • NumPyFFT:42.3μs\n",
        "• SciPyFFT:12.6μs\n",
        "\n",
        "#V. Reference\n",
        "在这本书上看到一个非常有意思的内容。频谱上的幅值跟正弦波的振幅直接对应。\n",
        "[PythonKong2020]Q. Kong, T. Siauw, and A. M. Bayen. Python Programming and Numerical Methods: A Guide for Engineers and Scientists. Academic Press, 2020."
      ],
      "metadata": {
        "id": "8fFYUKFnRyTZ"
      }
    },
    {
      "cell_type": "code",
      "source": [
        "'''\n",
        "Test DFT, FFT algorithm based on the book of\n",
        "Python Programming and Numerical Methods.\n",
        "A Guide for Engineers and Scientists-Qingkai KongBOOK_2021.pdf\n",
        "\n",
        "'''\n",
        "import numpy as np\n",
        "import matplotlib.pyplot as plt\n",
        "\n",
        "def DFT(x):\n",
        "    \"\"\"\n",
        "    Function to calculate the discrete Fourier Transform of a 1D real-valued signal x\n",
        "    \"\"\"\n",
        "\n",
        "    N = len(x)\n",
        "    n = np.arange(N)\n",
        "    k = n.reshape((N, 1))\n",
        "    e = np.exp(-2j * np.pi * k * n / N)\n",
        "    Xk= np.dot(e,x)\n",
        "\n",
        "    e1= np.exp(-2j*np.pi*n/N)\n",
        "    X1= np.sum(np.dot(e1,x))\n",
        "    X0= np.sum(x)\n",
        "\n",
        "    Fk = np.fft.fft(x)\n",
        "    return Xk\n",
        "\n",
        "if __name__=='__main__':\n",
        "\n",
        "    # N=5\n",
        "    # fsum = 0\n",
        "    # dn = np.arange(0,N,1)\n",
        "    # fsum = np.sum(np.exp(-2j*np.pi*dn/N))\n",
        "    # print(np.abs(fsum))\n",
        "    # sampling rate\n",
        "    sr = 100\n",
        "    # sampling interval\n",
        "    ts = 1.0 / sr\n",
        "    t = np.arange(0, 1, ts)\n",
        "    N = len(t)\n",
        "    freq = 1.\n",
        "    x =  3 * np.sin(2 * np.pi * freq * t)\n",
        "    x+=  4 * np.cos(2 * np.pi * freq * t)\n",
        "    freq = 4\n",
        "    x += 1 * np.sin(2 * np.pi * freq * t)\n",
        "    freq = 7\n",
        "    x += 0.5 * np.sin(2 * np.pi * freq * t)\n",
        "\n",
        "    fs = sr\n",
        "    f  = np.arange(0,fs,sr/N)\n",
        "    Fx = DFT(x)\n",
        "    plt.stem(f,np.abs(Fx)/N)\n",
        "    plt.figure()\n",
        "    #Normalize to see the amplitude\n",
        "    plt.stem(f,np.abs(Fx/(N/2)))\n",
        "    cos_amplitude = np.abs(np.real(Fx/(N/2)))\n",
        "    sin_amplitude = np.abs(np.imag(Fx/(N/2)))\n",
        "    plt.figure()\n",
        "    plt.stem(f, cos_amplitude, 'b', markerfmt=\" \", basefmt=\"k-\")\n",
        "    plt.stem(f, sin_amplitude, 'r', markerfmt=\" \", basefmt=\"k-\")\n",
        "    plt.show()\n",
        "    print()"
      ],
      "metadata": {
        "colab": {
          "base_uri": "https://localhost:8080/",
          "height": 870
        },
        "id": "-teBlHc6RsRe",
        "outputId": "84d45310-55ca-48f0-ff60-fec02d0be54a"
      },
      "execution_count": null,
      "outputs": [
        {
          "output_type": "stream",
          "name": "stderr",
          "text": [
            "/usr/local/lib/python3.7/dist-packages/ipykernel_launcher.py:52: UserWarning: In Matplotlib 3.3 individual lines on a stem plot will be added as a LineCollection instead of individual lines. This significantly improves the performance of a stem plot. To remove this warning and switch to the new behaviour, set the \"use_line_collection\" keyword argument to True.\n",
            "/usr/local/lib/python3.7/dist-packages/ipykernel_launcher.py:55: UserWarning: In Matplotlib 3.3 individual lines on a stem plot will be added as a LineCollection instead of individual lines. This significantly improves the performance of a stem plot. To remove this warning and switch to the new behaviour, set the \"use_line_collection\" keyword argument to True.\n",
            "/usr/local/lib/python3.7/dist-packages/ipykernel_launcher.py:59: UserWarning: In Matplotlib 3.3 individual lines on a stem plot will be added as a LineCollection instead of individual lines. This significantly improves the performance of a stem plot. To remove this warning and switch to the new behaviour, set the \"use_line_collection\" keyword argument to True.\n",
            "/usr/local/lib/python3.7/dist-packages/ipykernel_launcher.py:60: UserWarning: In Matplotlib 3.3 individual lines on a stem plot will be added as a LineCollection instead of individual lines. This significantly improves the performance of a stem plot. To remove this warning and switch to the new behaviour, set the \"use_line_collection\" keyword argument to True.\n"
          ]
        },
        {
          "output_type": "display_data",
          "data": {
            "text/plain": [
              "<Figure size 432x288 with 1 Axes>"
            ],
            "image/png": "[encoded data removed]"
          },
          "metadata": {
            "needs_background": "light"
          }
        },
        {
          "output_type": "display_data",
          "data": {
            "text/plain": [
              "<Figure size 432x288 with 1 Axes>"
            ],
            "image/png": "[encoded data removed]"
          },
          "metadata": {
            "needs_background": "light"
          }
        },
        {
          "output_type": "display_data",
          "data": {
            "text/plain": [
              "<Figure size 432x288 with 1 Axes>"
            ],
            "image/png": "[encoded data removed]"
          },
          "metadata": {
            "needs_background": "light"
          }
        },
        {
          "output_type": "stream",
          "name": "stdout",
          "text": [
            "\n"
          ]
        }
      ]
    },
    {
      "cell_type": "markdown",
      "source": [
        ""
      ],
      "metadata": {
        "id": "19OTIzHQSK3A"
      }
    }
  ]
}